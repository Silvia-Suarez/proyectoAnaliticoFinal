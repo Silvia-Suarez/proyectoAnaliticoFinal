{
 "cells": [
  {
   "cell_type": "code",
   "execution_count": 27,
   "metadata": {},
   "outputs": [],
   "source": [
    "import pandas as pd\n",
    "from mysql import connector\n",
    "from dotenv import load_dotenv\n",
    "import os\n",
    "from datetime import datetime\n",
    "\n",
    "import warnings\n"
   ]
  },
  {
   "cell_type": "markdown",
   "metadata": {},
   "source": [
    "# CineColombia"
   ]
  },
  {
   "cell_type": "code",
   "execution_count": 28,
   "metadata": {},
   "outputs": [
    {
     "name": "stdout",
     "output_type": "stream",
     "text": [
      "DB_USER: root, DB_HOST:127.0.0.1\n"
     ]
    }
   ],
   "source": [
    "load_dotenv()\n",
    "\n",
    "username = os.getenv('DB_USER')\n",
    "password = os.getenv('DB_PASSWORD')\n",
    "host = os.getenv('DB_HOST')\n",
    "DB = ['CineColombia', 'CineMark', 'Procinal']\n",
    "print(f'DB_USER: {username}, DB_HOST:{host}')"
   ]
  },
  {
   "cell_type": "code",
   "execution_count": 29,
   "metadata": {},
   "outputs": [
    {
     "name": "stderr",
     "output_type": "stream",
     "text": [
      "C:\\Users\\silvi\\AppData\\Local\\Temp\\ipykernel_57712\\180939996.py:6: UserWarning: pandas only supports SQLAlchemy connectable (engine/connection) or database string URI or sqlite3 DBAPI2 connection. Other DBAPI2 objects are not tested. Please consider using SQLAlchemy.\n",
      "  df_visualizaciones = pd.read_sql('''SELECT * FROM visualizaciones;''', conn)\n",
      "C:\\Users\\silvi\\AppData\\Local\\Temp\\ipykernel_57712\\180939996.py:9: UserWarning: pandas only supports SQLAlchemy connectable (engine/connection) or database string URI or sqlite3 DBAPI2 connection. Other DBAPI2 objects are not tested. Please consider using SQLAlchemy.\n",
      "  df_usuarios = pd.read_sql('''SELECT * FROM usuarios;''', conn)\n",
      "C:\\Users\\silvi\\AppData\\Local\\Temp\\ipykernel_57712\\180939996.py:12: UserWarning: pandas only supports SQLAlchemy connectable (engine/connection) or database string URI or sqlite3 DBAPI2 connection. Other DBAPI2 objects are not tested. Please consider using SQLAlchemy.\n",
      "  df_peliculas = pd.read_sql('''SELECT * FROM peliculas;''', conn)\n"
     ]
    }
   ],
   "source": [
    "for db in DB:\n",
    "    conn = connector.connect(user=username,\n",
    "                         password=password,\n",
    "                         host=host,\n",
    "                         database=db)\n",
    "    df_visualizaciones = pd.read_sql('''SELECT * FROM visualizaciones;''', conn)\n",
    "    filename = db+'_' + str(datetime.now().date())+ '_visualizaciones' + '.csv'\n",
    "    df_visualizaciones.to_csv(index=False, date_format='%Y-%M-%d', path_or_buf=f'data/{filename}')\n",
    "    df_usuarios = pd.read_sql('''SELECT * FROM usuarios;''', conn)\n",
    "    filename = db+'_' + str(datetime.now().date()) +' _usuarios' + '.csv'\n",
    "    df_usuarios.to_csv(index=False, date_format='%Y-%M-%d', path_or_buf=f'data/{filename}')\n",
    "    df_peliculas = pd.read_sql('''SELECT * FROM peliculas;''', conn)\n",
    "    filename = db+'_' + str(datetime.now().date()) + '_peliculas' + '.csv'\n",
    "    df_peliculas.to_csv(index=False, date_format='%Y-%M-%d', path_or_buf=f'data/{filename}')"
   ]
  },
  {
   "cell_type": "markdown",
   "metadata": {},
   "source": [
    "# Cities"
   ]
  },
  {
   "cell_type": "code",
   "execution_count": 30,
   "metadata": {},
   "outputs": [
    {
     "data": {
      "text/plain": [
       "'2023-11-01 23:35:42.434541'"
      ]
     },
     "execution_count": 30,
     "metadata": {},
     "output_type": "execute_result"
    }
   ],
   "source": [
    "str(datetime.now())"
   ]
  },
  {
   "cell_type": "code",
   "execution_count": 31,
   "metadata": {},
   "outputs": [
    {
     "data": {
      "text/html": [
       "<div>\n",
       "<style scoped>\n",
       "    .dataframe tbody tr th:only-of-type {\n",
       "        vertical-align: middle;\n",
       "    }\n",
       "\n",
       "    .dataframe tbody tr th {\n",
       "        vertical-align: top;\n",
       "    }\n",
       "\n",
       "    .dataframe thead th {\n",
       "        text-align: right;\n",
       "    }\n",
       "</style>\n",
       "<table border=\"1\" class=\"dataframe\">\n",
       "  <thead>\n",
       "    <tr style=\"text-align: right;\">\n",
       "      <th></th>\n",
       "      <th>CIUDAD</th>\n",
       "      <th>CIUDADGEO2</th>\n",
       "      <th>CIUDADGEO3</th>\n",
       "      <th>PAIS</th>\n",
       "      <th>PAISGEO2</th>\n",
       "      <th>PAISGEO3</th>\n",
       "    </tr>\n",
       "  </thead>\n",
       "  <tbody>\n",
       "    <tr>\n",
       "      <th>0</th>\n",
       "      <td>Bogota</td>\n",
       "      <td>BO</td>\n",
       "      <td>BOG</td>\n",
       "      <td>Colombia</td>\n",
       "      <td>CO</td>\n",
       "      <td>COL</td>\n",
       "    </tr>\n",
       "    <tr>\n",
       "      <th>1</th>\n",
       "      <td>Medellin</td>\n",
       "      <td>ME</td>\n",
       "      <td>MED</td>\n",
       "      <td>Colombia</td>\n",
       "      <td>CO</td>\n",
       "      <td>COL</td>\n",
       "    </tr>\n",
       "    <tr>\n",
       "      <th>2</th>\n",
       "      <td>Cali</td>\n",
       "      <td>CA</td>\n",
       "      <td>CAL</td>\n",
       "      <td>Colombia</td>\n",
       "      <td>CO</td>\n",
       "      <td>COL</td>\n",
       "    </tr>\n",
       "    <tr>\n",
       "      <th>3</th>\n",
       "      <td>San Andres y Providencia</td>\n",
       "      <td>SA</td>\n",
       "      <td>SAP</td>\n",
       "      <td>Colombia</td>\n",
       "      <td>CO</td>\n",
       "      <td>COL</td>\n",
       "    </tr>\n",
       "    <tr>\n",
       "      <th>4</th>\n",
       "      <td>Cartagena</td>\n",
       "      <td>CT</td>\n",
       "      <td>CTG</td>\n",
       "      <td>Colombia</td>\n",
       "      <td>CO</td>\n",
       "      <td>COL</td>\n",
       "    </tr>\n",
       "    <tr>\n",
       "      <th>5</th>\n",
       "      <td>Barranquilla</td>\n",
       "      <td>BA</td>\n",
       "      <td>BAQ</td>\n",
       "      <td>Colombia</td>\n",
       "      <td>CO</td>\n",
       "      <td>COL</td>\n",
       "    </tr>\n",
       "    <tr>\n",
       "      <th>6</th>\n",
       "      <td>Santa Marta</td>\n",
       "      <td>SM</td>\n",
       "      <td>SMT</td>\n",
       "      <td>Colombia</td>\n",
       "      <td>CO</td>\n",
       "      <td>COL</td>\n",
       "    </tr>\n",
       "    <tr>\n",
       "      <th>7</th>\n",
       "      <td>Valledupar</td>\n",
       "      <td>VP</td>\n",
       "      <td>VDP</td>\n",
       "      <td>Colombia</td>\n",
       "      <td>CO</td>\n",
       "      <td>COL</td>\n",
       "    </tr>\n",
       "    <tr>\n",
       "      <th>8</th>\n",
       "      <td>Bucaramanga</td>\n",
       "      <td>BM</td>\n",
       "      <td>BCM</td>\n",
       "      <td>Colombia</td>\n",
       "      <td>CO</td>\n",
       "      <td>COL</td>\n",
       "    </tr>\n",
       "  </tbody>\n",
       "</table>\n",
       "</div>"
      ],
      "text/plain": [
       "                     CIUDAD CIUDADGEO2 CIUDADGEO3      PAIS PAISGEO2 PAISGEO3\n",
       "0                    Bogota         BO        BOG  Colombia       CO      COL\n",
       "1                  Medellin         ME       MED   Colombia       CO      COL\n",
       "2                      Cali         CA        CAL  Colombia       CO      COL\n",
       "3  San Andres y Providencia         SA        SAP  Colombia       CO      COL\n",
       "4                 Cartagena         CT        CTG  Colombia       CO      COL\n",
       "5              Barranquilla         BA        BAQ  Colombia       CO      COL\n",
       "6               Santa Marta         SM        SMT  Colombia       CO      COL\n",
       "7                Valledupar         VP        VDP  Colombia       CO      COL\n",
       "8               Bucaramanga         BM        BCM  Colombia       CO      COL"
      ]
     },
     "execution_count": 31,
     "metadata": {},
     "output_type": "execute_result"
    }
   ],
   "source": [
    "cities = pd.read_csv('cities.csv')\n",
    "cities"
   ]
  },
  {
   "cell_type": "code",
   "execution_count": 32,
   "metadata": {},
   "outputs": [
    {
     "data": {
      "text/html": [
       "<div>\n",
       "<style scoped>\n",
       "    .dataframe tbody tr th:only-of-type {\n",
       "        vertical-align: middle;\n",
       "    }\n",
       "\n",
       "    .dataframe tbody tr th {\n",
       "        vertical-align: top;\n",
       "    }\n",
       "\n",
       "    .dataframe thead th {\n",
       "        text-align: right;\n",
       "    }\n",
       "</style>\n",
       "<table border=\"1\" class=\"dataframe\">\n",
       "  <thead>\n",
       "    <tr style=\"text-align: right;\">\n",
       "      <th></th>\n",
       "      <th>CIUDAD</th>\n",
       "      <th>CIUDADGEO2</th>\n",
       "      <th>CIUDADGEO3</th>\n",
       "      <th>PAIS</th>\n",
       "      <th>PAISGEO2</th>\n",
       "      <th>PAISGEO3</th>\n",
       "    </tr>\n",
       "  </thead>\n",
       "  <tbody>\n",
       "    <tr>\n",
       "      <th>0</th>\n",
       "      <td>Bogota</td>\n",
       "      <td>BO</td>\n",
       "      <td>BOG</td>\n",
       "      <td>Colombia</td>\n",
       "      <td>CO</td>\n",
       "      <td>COL</td>\n",
       "    </tr>\n",
       "  </tbody>\n",
       "</table>\n",
       "</div>"
      ],
      "text/plain": [
       "   CIUDAD CIUDADGEO2 CIUDADGEO3      PAIS PAISGEO2 PAISGEO3\n",
       "0  Bogota         BO        BOG  Colombia       CO      COL"
      ]
     },
     "execution_count": 32,
     "metadata": {},
     "output_type": "execute_result"
    }
   ],
   "source": [
    "city = cities.sample()\n",
    "city"
   ]
  },
  {
   "cell_type": "code",
   "execution_count": 33,
   "metadata": {},
   "outputs": [
    {
     "data": {
      "text/plain": [
       "array(['Bogota'], dtype=object)"
      ]
     },
     "execution_count": 33,
     "metadata": {},
     "output_type": "execute_result"
    }
   ],
   "source": [
    "city['CIUDAD'].values"
   ]
  }
 ],
 "metadata": {
  "kernelspec": {
   "display_name": "Nube",
   "language": "python",
   "name": "python3"
  },
  "language_info": {
   "codemirror_mode": {
    "name": "ipython",
    "version": 3
   },
   "file_extension": ".py",
   "mimetype": "text/x-python",
   "name": "python",
   "nbconvert_exporter": "python",
   "pygments_lexer": "ipython3",
   "version": "3.11.5"
  }
 },
 "nbformat": 4,
 "nbformat_minor": 2
}
